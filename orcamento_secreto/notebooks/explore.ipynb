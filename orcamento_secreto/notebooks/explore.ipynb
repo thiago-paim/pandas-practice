{
 "cells": [
  {
   "cell_type": "code",
   "execution_count": null,
   "id": "a91c28a0-2ec3-4083-b182-88c54ba4eee6",
   "metadata": {},
   "outputs": [],
   "source": [
    "import json\n",
    "import pandas as pd\n",
    "\n",
    "pd.set_option('display.max_rows', None)\n",
    "pd.set_option('display.max_columns', None)\n",
    "pd.options.display.float_format = '{:,.2f}'.format\n",
    "\n",
    "dataset_path = '../data/raw/emendas.json'\n",
    "\n",
    "with open(dataset_path) as file_data:\n",
    "    data = json.load(file_data)['data']\n",
    "    df = pd.DataFrame(data)"
   ]
  },
  {
   "cell_type": "code",
   "execution_count": null,
   "id": "7ff259c2-ac96-444f-bfb5-e40f6cf86068",
   "metadata": {},
   "outputs": [],
   "source": [
    "# Convertendo colunas de valores para o dtype correto\n",
    "df.info()\n",
    "\n",
    "value_columns = [\n",
    "    'valorEmpenhado',\n",
    "    'valorLiquidado',\n",
    "    'valorPago',\n",
    "    'valorRestoInscrito',\n",
    "    'valorRestoCancelado',\n",
    "    'valorRestoPago',\n",
    "    'valorRestoAPagar',\n",
    "]\n",
    "for column in value_columns:\n",
    "    df[column] = df[column].str.replace('.', '').str.replace(',', '.')\n",
    "    \n",
    "value_dtypes_dict = { col:'float' for col in value_columns }\n",
    "df = df.astype(value_dtypes_dict)\n",
    "    \n",
    "df.describe()"
   ]
  },
  {
   "cell_type": "code",
   "execution_count": 29,
   "id": "223d0f82-44f7-44ae-9edf-aa9f184736b3",
   "metadata": {},
   "outputs": [
    {
     "data": {
      "text/plain": [
       "Nacional             382\n",
       "Nordeste               9\n",
       "RIO GRANDE DO SUL      5\n",
       "Sul                    4\n",
       "Centro-Oeste           4\n",
       "Sudeste                4\n",
       "MINAS GERAIS           3\n",
       "ALAGOAS                3\n",
       "Norte                  3\n",
       "MATO GROSSO            2\n",
       "PERNAMBUCO             2\n",
       "GOIÁS                  2\n",
       "SANTA CATARINA         1\n",
       "CEARÁ                  1\n",
       "PARAÍBA                1\n",
       "TIMON                  1\n",
       "MARANHÃO               1\n",
       "PARÁ                   1\n",
       "PORTO VELHO            1\n",
       "MATÕES DO NORTE        1\n",
       "AMAPÁ                  1\n",
       "Name: localidadeDoGasto, dtype: int64"
      ]
     },
     "execution_count": 29,
     "metadata": {},
     "output_type": "execute_result"
    }
   ],
   "source": [
    "df.localidadeDoGasto.value_counts()"
   ]
  },
  {
   "cell_type": "code",
   "execution_count": null,
   "id": "f166c890-0e65-472b-92d7-6d2bc5dece29",
   "metadata": {},
   "outputs": [],
   "source": []
  }
 ],
 "metadata": {
  "kernelspec": {
   "display_name": "Python 3 (ipykernel)",
   "language": "python",
   "name": "python3"
  },
  "language_info": {
   "codemirror_mode": {
    "name": "ipython",
    "version": 3
   },
   "file_extension": ".py",
   "mimetype": "text/x-python",
   "name": "python",
   "nbconvert_exporter": "python",
   "pygments_lexer": "ipython3",
   "version": "3.8.13"
  }
 },
 "nbformat": 4,
 "nbformat_minor": 5
}
