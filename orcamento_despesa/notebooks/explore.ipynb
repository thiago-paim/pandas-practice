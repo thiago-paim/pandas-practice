{
 "cells": [
  {
   "cell_type": "code",
   "execution_count": null,
   "id": "ea255aee-4bbb-47de-9b7f-ed594d34e6d7",
   "metadata": {},
   "outputs": [],
   "source": [
    "import warnings\n",
    "warnings.filterwarnings('ignore')\n",
    "\n",
    "import pandas as pd\n",
    "import matplotlib.pyplot as plt\n",
    "import seaborn as sns\n",
    "\n",
    "pd.set_option('display.max_rows', None)\n",
    "pd.set_option('display.max_columns', None)\n",
    "pd.options.display.float_format = '{:,.2f}'.format\n",
    "\n",
    "dataset_path = '../datasets/preprocessed/'\n",
    "dataset_name = 'OrcamentoDespesa_2022-10-25 11:33:20.633541.csv'\n",
    "\n",
    "df = pd.read_csv(f\"{dataset_path}{dataset_name}\", sep=';')\n",
    "\n",
    "print(df.shape)\n",
    "df.sample(5)"
   ]
  },
  {
   "cell_type": "code",
   "execution_count": null,
   "id": "bfb74512-e240-4b49-9919-92dd811672ac",
   "metadata": {},
   "outputs": [],
   "source": [
    "# Calcula diferença entre orçamentos inicial e realizado\n",
    "orcamento_diff = df.apply(lambda row: row['orcamento_realizado'] - row['orcamento_inicial'], axis=1)\n",
    "df['dif_orcamento_realizado_inicial'] = orcamento_diff\n",
    "\n",
    "df.describe()"
   ]
  },
  {
   "cell_type": "code",
   "execution_count": null,
   "id": "7948a629-c910-43e2-ab1b-a00c4bc03ecd",
   "metadata": {},
   "outputs": [],
   "source": [
    "# Exibe 5 orgãos mais comuns do orçamento\n",
    "most_common_organs = df['nome_orgao_superior'].value_counts() / df.shape[0] * 100\n",
    "most_common_organs[:5]"
   ]
  },
  {
   "cell_type": "code",
   "execution_count": null,
   "id": "dd30a5b8-ecf5-412d-87a1-3128289d550d",
   "metadata": {},
   "outputs": [],
   "source": [
    "print(df.orcamento_inicial.describe(percentiles = [0,0.001, 0.25,0.5,0.75,0.99, 1]))\n",
    "\n",
    "sns.histplot(df.orcamento_inicial, bins=100, kde=True, kde_kws={\"cut\": 3})"
   ]
  },
  {
   "cell_type": "code",
   "execution_count": null,
   "id": "e41c2475-1e1d-4409-8563-9d17815180f9",
   "metadata": {},
   "outputs": [],
   "source": [
    "# Orçamento inicial total para cada orgão superior\n",
    "initial_budget_per_organ = df.groupby('nome_orgao_superior')['orcamento_realizado'].agg([len, sum])\n",
    "\n",
    "# Valor médio dos orçamentos por orgão superior\n",
    "avg_budget = initial_budget_per_organ.apply(lambda row: row['sum'] / row['len'], axis=1)\n",
    "initial_budget_per_organ['avg_budget'] = avg_budget\n",
    "initial_budget_per_organ.sort_values('avg_budget', ascending=False)"
   ]
  },
  {
   "cell_type": "code",
   "execution_count": null,
   "id": "41c5501f-c51d-4698-8f3d-8c35de2c2dc1",
   "metadata": {},
   "outputs": [],
   "source": [
    "df.groupby('nome_orgao_superior')['orcamento_realizado'].agg([len, sum]).sort_values('sum', ascending=False)"
   ]
  }
 ],
 "metadata": {
  "kernelspec": {
   "display_name": "Python 3 (ipykernel)",
   "language": "python",
   "name": "python3"
  },
  "language_info": {
   "codemirror_mode": {
    "name": "ipython",
    "version": 3
   },
   "file_extension": ".py",
   "mimetype": "text/x-python",
   "name": "python",
   "nbconvert_exporter": "python",
   "pygments_lexer": "ipython3",
   "version": "3.8.13"
  },
  "vscode": {
   "interpreter": {
    "hash": "916dbcbb3f70747c44a77c7bcd40155683ae19c65e1c03b4aa3499c5328201f1"
   }
  }
 },
 "nbformat": 4,
 "nbformat_minor": 5
}
