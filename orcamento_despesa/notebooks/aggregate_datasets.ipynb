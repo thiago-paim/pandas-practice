{
 "cells": [
  {
   "cell_type": "code",
   "execution_count": null,
   "id": "d9164d2a-9959-436e-b4db-08f829bfd05c",
   "metadata": {},
   "outputs": [],
   "source": [
    "import warnings\n",
    "warnings.filterwarnings('ignore')\n",
    "\n",
    "import pandas as pd\n",
    "\n",
    "pd.set_option('display.max_rows', None)\n",
    "pd.set_option('display.max_columns', None)\n",
    "pd.options.display.float_format = '{:,.2f}'.format\n",
    "\n",
    "dataset_path = '../datasets/raw/'\n",
    "dataset_base_name = 'OrcamentoDespesa'\n",
    "available_years = [\n",
    "    '2014',\n",
    "    '2015',\n",
    "    '2016',\n",
    "    '2017',\n",
    "    '2018',\n",
    "    '2019',\n",
    "    '2020',\n",
    "    '2021',\n",
    "    # '2022',  # Disponivel mas incompleto\n",
    "]\n",
    "columns = ['EXERCÍCIO', 'CÓDIGO ÓRGÃO SUPERIOR', 'NOME ÓRGÃO SUPERIOR',\n",
    "       'CÓDIGO ÓRGÃO SUBORDINADO', 'NOME ÓRGÃO SUBORDINADO',\n",
    "       'CÓDIGO UNIDADE ORÇAMENTÁRIA', 'NOME UNIDADE ORÇAMENTÁRIA',\n",
    "       'CÓDIGO FUNÇÃO', 'NOME FUNÇÃO', 'CÓDIGO SUBFUNÇÃO', 'NOME SUBFUNÇÃO',\n",
    "       'CÓDIGO PROGRAMA ORÇAMENTÁRIO', 'NOME PROGRAMA ORÇAMENTÁRIO',\n",
    "       'CÓDIGO AÇÃO', 'NOME AÇÃO', 'CÓDIGO CATEGORIA ECONÔMICA',\n",
    "       'NOME CATEGORIA ECONÔMICA', 'CÓDIGO GRUPO DE DESPESA',\n",
    "       'NOME GRUPO DE DESPESA', 'CÓDIGO ELEMENTO DE DESPESA',\n",
    "       'NOME ELEMENTO DE DESPESA', 'ORÇAMENTO INICIAL (R$)',\n",
    "       'ORÇAMENTO ATUALIZADO (R$)', 'ORÇAMENTO EMPENHADO (R$)',\n",
    "       'ORÇAMENTO REALIZADO (R$)']\n",
    "\n",
    "\"\"\"\n",
    "Em 2020 houve uma despesa com CATEGORIA ECONÔMICA e GRUPO DE DESPESA inválidos.\n",
    "Isto faz com que o pandas assuma que a coluna é do tipo `object`, gerando erros na junção dos datasets, \n",
    "portanto as colunas 'CÓDIGO CATEGORIA ECONÔMICA' e 'CÓDIGO GRUPO DE DESPESA' serão convertidas para `object`\n",
    "\"\"\"\n",
    "dtype_conversions = {\n",
    "    'CÓDIGO CATEGORIA ECONÔMICA': 'object',\n",
    "    'CÓDIGO GRUPO DE DESPESA': 'object',\n",
    "}\n",
    "\n",
    "raw_df = pd.DataFrame(columns=columns)\n",
    "df_shapes = []\n",
    "\n",
    "for year in available_years:\n",
    "    ydf = pd.read_csv(f\"{dataset_path}{year}_{dataset_base_name}.csv\", sep=';', encoding='Latin-1')\n",
    "    ydf = ydf.astype(dtype_conversions)\n",
    "\n",
    "    raw_df = pd.merge(raw_df, ydf, how='outer')\n",
    "    df_shapes.append(ydf.shape)"
   ]
  },
  {
   "cell_type": "code",
   "execution_count": null,
   "id": "dae0e055-7b31-4fd6-a12e-30413070d8fb",
   "metadata": {},
   "outputs": [],
   "source": [
    "# Checagem simples da quantidade de linhas, para ter mais confiabilidade no dataset final\n",
    "total_line_count = 0\n",
    "for shape in df_shapes:\n",
    "    total_line_count += shape[0]\n",
    "\n",
    "print(total_line_count, raw_df.shape)\n",
    "print(total_line_count == raw_df.shape[0])\n",
    "\n",
    "# Mantém cópia do dataset original por segurança\n",
    "df = raw_df"
   ]
  },
  {
   "cell_type": "code",
   "execution_count": null,
   "id": "2b11d824-dfaf-4343-9c9c-5250087398c2",
   "metadata": {},
   "outputs": [],
   "source": [
    "# Remove colunas de CODIGO, pois são redundantes\n",
    "code_columns = [col for col in df.columns if 'CÓDIGO' in col]\n",
    "df = df.drop(code_columns, axis=1)"
   ]
  },
  {
   "cell_type": "code",
   "execution_count": null,
   "id": "e62aa81e-db9d-4545-b399-b4cc7c850e84",
   "metadata": {},
   "outputs": [],
   "source": [
    "# Corrige separador decimal\n",
    "df['ORÇAMENTO INICIAL (R$)'] = df['ORÇAMENTO INICIAL (R$)'].str.replace(',', '.')\n",
    "df['ORÇAMENTO ATUALIZADO (R$)'] = df['ORÇAMENTO ATUALIZADO (R$)'].str.replace(',', '.')\n",
    "df['ORÇAMENTO EMPENHADO (R$)'] = df['ORÇAMENTO EMPENHADO (R$)'].str.replace(',', '.')\n",
    "df['ORÇAMENTO REALIZADO (R$)'] = df['ORÇAMENTO REALIZADO (R$)'].str.replace(',', '.')\n",
    "\n",
    "# Converte colunas de ORÇAMENTO em float\n",
    "budget_columns = [col for col in df.columns if 'ORÇAMENTO ' in col]\n",
    "budget_dtypes_dict = { col:'float' for col in budget_columns }\n",
    "df = df.astype(budget_dtypes_dict)"
   ]
  },
  {
   "cell_type": "code",
   "execution_count": null,
   "id": "ba324e38-9727-40b6-a4e9-79e2fea88b47",
   "metadata": {},
   "outputs": [],
   "source": [
    "# Renomeia colunas\n",
    "column_names = {\n",
    "    'EXERCÍCIO': 'exercicio', \n",
    "    'NOME ÓRGÃO SUPERIOR': 'nome_orgao_superior', \n",
    "    'NOME ÓRGÃO SUBORDINADO': 'nome_orgao_subordinado', \n",
    "    'NOME UNIDADE ORÇAMENTÁRIA': 'nome_unidade_orcamentaria', \n",
    "    'NOME FUNÇÃO': 'nome_funcao', \n",
    "    'NOME SUBFUNÇÃO': 'nome_subfuncao', \n",
    "    'NOME PROGRAMA ORÇAMENTÁRIO': 'nome_programa_orcamentario', \n",
    "    'NOME AÇÃO': 'nome_acao', \n",
    "    'NOME CATEGORIA ECONÔMICA': 'nome_categoria_economica', \n",
    "    'NOME GRUPO DE DESPESA': 'nome_grupo_despesa', \n",
    "    'NOME ELEMENTO DE DESPESA': 'nome_elemento_despesa', \n",
    "    'ORÇAMENTO INICIAL (R$)': 'orcamento_inicial',\n",
    "    'ORÇAMENTO ATUALIZADO (R$)': 'orcamento_atualizado',\n",
    "    'ORÇAMENTO EMPENHADO (R$)': 'orcamento_empenhado',\n",
    "    'ORÇAMENTO REALIZADO (R$)': 'orcamento_realizado',\n",
    "}\n",
    "\n",
    "df.rename(columns=column_names, inplace=True)"
   ]
  },
  {
   "cell_type": "code",
   "execution_count": null,
   "id": "34e6cf87-b465-4c74-b3fd-267bb36c4250",
   "metadata": {},
   "outputs": [],
   "source": [
    "\"\"\"\n",
    "TODO: Lidar valores negativos de orçamento e outros outliers\n",
    "\"\"\"\n",
    "df.describe(percentiles = [0,0.001, 0.25,0.5,0.75,0.99, 1])"
   ]
  },
  {
   "cell_type": "code",
   "execution_count": null,
   "id": "56389e2d-edc9-47e9-a4b2-e6971cfcfaeb",
   "metadata": {},
   "outputs": [],
   "source": [
    "# Visualização de informações básicas do dataset\n",
    "print(df.info())\n",
    "df.sample(5)"
   ]
  },
  {
   "cell_type": "code",
   "execution_count": null,
   "id": "75ea7212-fb66-46d4-b67b-6829ec9b9ad9",
   "metadata": {},
   "outputs": [],
   "source": [
    "# Exporta o arquivo pré-processado, com dados agregados de todos os anos\n",
    "from datetime import datetime\n",
    "\n",
    "output_path = '../datasets/preprocessed/'\n",
    "t = datetime.now()\n",
    "\n",
    "df.to_csv(f\"{output_path}{dataset_base_name}_{t}.csv\", sep=';', encoding='utf-8', index = False)"
   ]
  }
 ],
 "metadata": {
  "kernelspec": {
   "display_name": "Python 3 (ipykernel)",
   "language": "python",
   "name": "python3"
  },
  "language_info": {
   "codemirror_mode": {
    "name": "ipython",
    "version": 3
   },
   "file_extension": ".py",
   "mimetype": "text/x-python",
   "name": "python",
   "nbconvert_exporter": "python",
   "pygments_lexer": "ipython3",
   "version": "3.8.13"
  },
  "vscode": {
   "interpreter": {
    "hash": "916dbcbb3f70747c44a77c7bcd40155683ae19c65e1c03b4aa3499c5328201f1"
   }
  }
 },
 "nbformat": 4,
 "nbformat_minor": 5
}
